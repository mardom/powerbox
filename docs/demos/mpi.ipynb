{
 "cells": [
  {
   "cell_type": "markdown",
   "metadata": {},
   "source": [
    "# Multiprocessing with Powerbox"
   ]
  },
  {
   "cell_type": "markdown",
   "metadata": {},
   "source": [
    "There are two ways to parallelize the FFT calculations in `powerbox`. If you have `pyfftw` installed, you can take advantage of the multithreaded FFT computations that it offers (numpy does not support this), simply by setting `nthreads` to a number greater than one. However, if you would like to run many FFT's simultaneously, you may wish to parallelize on a higher level, i.e. run each FFT on a different process (using `multiprocessing` or `mpi` or similar). In this case, it is important that the underlying FFT library use only a single thread, or you will get VERY SLOW computation times because the two layers of threads don't communicate well. In this notebook, we show how to use both multiple threads via `pyfftw` and also multiple processes with either the `numpy` or `pyfftw` backends."
   ]
  },
  {
   "cell_type": "code",
   "execution_count": 19,
   "metadata": {},
   "outputs": [
    {
     "data": {
      "text/plain": [
       "'0.7.4.dev28+gc727b58.d20240325'"
      ]
     },
     "execution_count": 19,
     "metadata": {},
     "output_type": "execute_result"
    }
   ],
   "source": [
    "import powerbox as pb\n",
    "pb.__version__"
   ]
  },
  {
   "cell_type": "markdown",
   "metadata": {},
   "source": [
    "First, let's define a simple `powerbox` operation to test. This function calculates a power spectrum on a random box of dimension $300^3$ and returns the computation time."
   ]
  },
  {
   "cell_type": "code",
   "execution_count": 27,
   "metadata": {},
   "outputs": [
    {
     "name": "stdout",
     "output_type": "stream",
     "text": [
      "Total time: 7.74 s\n"
     ]
    }
   ],
   "source": [
    "from powerbox import get_power\n",
    "import numpy as np \n",
    "from time import time\n",
    "from multiprocessing import Pool\n",
    "\n",
    "def run_pb(arg1, arg2, **kwargs):\n",
    "    t0 = time()\n",
    "    out = get_power(arg1*arg2, (300,300,300),\n",
    "                    bins = 50, **kwargs)                                      # default is nthreads = None which uses nthreads = number of available CPUs.\n",
    "    return time() - t0\n",
    "\n",
    "shape = (200,200,200) # Size of one chunk\n",
    "arr = np.random.rand(np.prod(shape)).reshape(shape) # Random box on which to calculate the FFT\n",
    "\n",
    "start = time()\n",
    "ncalls = 8\n",
    "all_times = []\n",
    "for i in range(ncalls):\n",
    "    all_times.append(run_pb(arr, i))\n",
    "print('Total time:', np.round(np.sum(all_times),2),'s')"
   ]
  },
  {
   "cell_type": "markdown",
   "metadata": {},
   "source": [
    "## Multiprocessing with `pyFFTW` as a backend"
   ]
  },
  {
   "cell_type": "markdown",
   "metadata": {},
   "source": [
    "We can keep using `pyFFTW` as a backend by setting the `nthreads` argument to 1."
   ]
  },
  {
   "cell_type": "code",
   "execution_count": 28,
   "metadata": {},
   "outputs": [
    {
     "name": "stdout",
     "output_type": "stream",
     "text": [
      "Total time: 11.42 s\n"
     ]
    }
   ],
   "source": [
    "nprocs = 8\n",
    "ncalls = 8\n",
    "start = time()\n",
    "p = Pool(processes=nprocs)\n",
    "for i in range(ncalls):\n",
    "    p.apply_async(run_pb, args = (arr, i), kwds = {\"nthreads\" :1})\n",
    "p.close()\n",
    "p.join()\n",
    "print('Total time:', np.round((time() - start),2),'s')"
   ]
  },
  {
   "cell_type": "markdown",
   "metadata": {},
   "source": [
    "## Multiprocessing with `numpy` as a backend"
   ]
  },
  {
   "cell_type": "markdown",
   "metadata": {},
   "source": [
    "We can also just use the `numpy` FFT backend by setting `nthreads` to `False`."
   ]
  },
  {
   "cell_type": "code",
   "execution_count": 29,
   "metadata": {},
   "outputs": [
    {
     "name": "stdout",
     "output_type": "stream",
     "text": [
      "Total time: 15.21 s\n"
     ]
    }
   ],
   "source": [
    "nprocs = 8\n",
    "ncalls = 8\n",
    "start = time()\n",
    "p = Pool(processes=nprocs)\n",
    "for i in range(ncalls):\n",
    "    p.apply_async(run_pb, args = (arr, i), kwds = {\"nthreads\" :False})\n",
    "p.close()\n",
    "p.join()\n",
    "print('Total time:', np.round((time() - start),2),'s')"
   ]
  },
  {
   "cell_type": "markdown",
   "metadata": {},
   "source": [
    "The runtime is roughly the same whether we use `numpy` or single-threaded `pyFFTW`."
   ]
  },
  {
   "cell_type": "code",
   "execution_count": null,
   "metadata": {},
   "outputs": [],
   "source": []
  }
 ],
 "metadata": {
  "kernelspec": {
   "display_name": "py10",
   "language": "python",
   "name": "python3"
  },
  "language_info": {
   "codemirror_mode": {
    "name": "ipython",
    "version": 3
   },
   "file_extension": ".py",
   "mimetype": "text/x-python",
   "name": "python",
   "nbconvert_exporter": "python",
   "pygments_lexer": "ipython3",
   "version": "3.10.9"
  }
 },
 "nbformat": 4,
 "nbformat_minor": 2
}
