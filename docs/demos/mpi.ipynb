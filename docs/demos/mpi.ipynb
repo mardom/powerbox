{
 "cells": [
  {
   "cell_type": "markdown",
   "metadata": {},
   "source": [
    "# Multiprocessing with Powerbox"
   ]
  },
  {
   "cell_type": "markdown",
   "metadata": {},
   "source": [
    "If we want to run powerbox in parallel via multiprocessing, it's important to control the number of threads used during the FFT operation. The simplest way of dealing with this is to uninstall `pyFFTW` from the environment you use to run `powerbox`, that way only the single-threaded `numpy` `FFT` routine is used. However, if you want to keep `pyFFTW` installed in your environment, this can be done in two ways: (i) Use `pyFFTW` while manually setting the number of threads to 1. (ii) Revert to using the single-threaded `numpy` implementation of `FFT`. In this tutorial, we demonstrate how to implement these two methods using the `nthreads` flag."
   ]
  },
  {
   "cell_type": "markdown",
   "metadata": {},
   "source": [
    "Let's import the config file and check the defaults. The default number of threads is the number of CPUs available. "
   ]
  },
  {
   "cell_type": "code",
   "execution_count": 1,
   "metadata": {},
   "outputs": [
    {
     "data": {
      "text/plain": [
       "'0.7.4.dev28+gc727b58.d20240325'"
      ]
     },
     "execution_count": 1,
     "metadata": {},
     "output_type": "execute_result"
    }
   ],
   "source": [
    "import powerbox as pb\n",
    "pb.__version__"
   ]
  },
  {
   "cell_type": "markdown",
   "metadata": {},
   "source": [
    "First, let's define a simple `powerbox` operation to test. This function calculates a power spectrum on a random box of dimension $300^3$ and returns the computation time."
   ]
  },
  {
   "cell_type": "code",
   "execution_count": 2,
   "metadata": {},
   "outputs": [
    {
     "name": "stdout",
     "output_type": "stream",
     "text": [
      "Done:  0.91\n",
      "Done:  0.88\n",
      "Done:  0.89\n",
      "Done:  0.96\n",
      "Done:  0.9\n",
      "Done:  0.88\n",
      "Done:  0.93\n",
      "Done:  0.9\n",
      "Done:  0.93\n",
      "Done:  0.91\n",
      "Single iteration time: 0.91 s\n"
     ]
    }
   ],
   "source": [
    "from powerbox import get_power\n",
    "import numpy as np \n",
    "from time import time\n",
    "from multiprocessing import Pool\n",
    "\n",
    "def run_pb(an_arg):\n",
    "    shape = (200,200,200) # Size of one chunk\n",
    "    arr = np.random.rand(np.prod(shape)).reshape(shape) * an_arg\n",
    "    t0 = time()\n",
    "    out = get_power(arr, (300,300,300),\n",
    "                    bins = 50)                                      # default is nthreads = None which uses nthreads = number of available CPUs.\n",
    "    print('Done: ', np.round(time() - t0,2), flush = True)\n",
    "    return time() - t0\n",
    "\n",
    "start = time()\n",
    "ncalls = 10\n",
    "all_times = []\n",
    "for i in range(ncalls):\n",
    "    all_times.append(run_pb(i))\n",
    "print('Single iteration time:', np.round(np.mean(all_times),2),'s')"
   ]
  },
  {
   "cell_type": "markdown",
   "metadata": {},
   "source": [
    "Now, let's run the same function but with multiple processes, while leaving the number of threads to the default value.\n",
    "This will be very slow because the threads are already using all of the CPUs, which are now also given separate processes on top of that."
   ]
  },
  {
   "cell_type": "code",
   "execution_count": null,
   "metadata": {},
   "outputs": [
    {
     "ename": "KeyboardInterrupt",
     "evalue": "",
     "output_type": "error",
     "traceback": [
      "\u001b[0;31m---------------------------------------------------------------------------\u001b[0m",
      "\u001b[0;31mKeyboardInterrupt\u001b[0m                         Traceback (most recent call last)",
      "Cell \u001b[0;32mIn[7], line 8\u001b[0m\n\u001b[1;32m      6\u001b[0m     p\u001b[38;5;241m.\u001b[39mapply_async(run_pb, args \u001b[38;5;241m=\u001b[39m (i,))\n\u001b[1;32m      7\u001b[0m p\u001b[38;5;241m.\u001b[39mclose()\n\u001b[0;32m----> 8\u001b[0m \u001b[43mp\u001b[49m\u001b[38;5;241;43m.\u001b[39;49m\u001b[43mjoin\u001b[49m\u001b[43m(\u001b[49m\u001b[43m)\u001b[49m\n\u001b[1;32m      9\u001b[0m \u001b[38;5;28mprint\u001b[39m(\u001b[38;5;124m'\u001b[39m\u001b[38;5;124mTotal:\u001b[39m\u001b[38;5;124m'\u001b[39m, np\u001b[38;5;241m.\u001b[39mround(time() \u001b[38;5;241m-\u001b[39m start,\u001b[38;5;241m2\u001b[39m),\u001b[38;5;124m'\u001b[39m\u001b[38;5;124ms\u001b[39m\u001b[38;5;124m'\u001b[39m)\n\u001b[1;32m     10\u001b[0m \u001b[38;5;66;03m# Runs for > 3 mins\u001b[39;00m\n",
      "File \u001b[0;32m~/anaconda3/envs/py10/lib/python3.10/multiprocessing/pool.py:665\u001b[0m, in \u001b[0;36mPool.join\u001b[0;34m(self)\u001b[0m\n\u001b[1;32m    663\u001b[0m \u001b[38;5;28;01melif\u001b[39;00m \u001b[38;5;28mself\u001b[39m\u001b[38;5;241m.\u001b[39m_state \u001b[38;5;129;01mnot\u001b[39;00m \u001b[38;5;129;01min\u001b[39;00m (CLOSE, TERMINATE):\n\u001b[1;32m    664\u001b[0m     \u001b[38;5;28;01mraise\u001b[39;00m \u001b[38;5;167;01mValueError\u001b[39;00m(\u001b[38;5;124m\"\u001b[39m\u001b[38;5;124mIn unknown state\u001b[39m\u001b[38;5;124m\"\u001b[39m)\n\u001b[0;32m--> 665\u001b[0m \u001b[38;5;28;43mself\u001b[39;49m\u001b[38;5;241;43m.\u001b[39;49m\u001b[43m_worker_handler\u001b[49m\u001b[38;5;241;43m.\u001b[39;49m\u001b[43mjoin\u001b[49m\u001b[43m(\u001b[49m\u001b[43m)\u001b[49m\n\u001b[1;32m    666\u001b[0m \u001b[38;5;28mself\u001b[39m\u001b[38;5;241m.\u001b[39m_task_handler\u001b[38;5;241m.\u001b[39mjoin()\n\u001b[1;32m    667\u001b[0m \u001b[38;5;28mself\u001b[39m\u001b[38;5;241m.\u001b[39m_result_handler\u001b[38;5;241m.\u001b[39mjoin()\n",
      "File \u001b[0;32m~/anaconda3/envs/py10/lib/python3.10/threading.py:1096\u001b[0m, in \u001b[0;36mThread.join\u001b[0;34m(self, timeout)\u001b[0m\n\u001b[1;32m   1093\u001b[0m     \u001b[38;5;28;01mraise\u001b[39;00m \u001b[38;5;167;01mRuntimeError\u001b[39;00m(\u001b[38;5;124m\"\u001b[39m\u001b[38;5;124mcannot join current thread\u001b[39m\u001b[38;5;124m\"\u001b[39m)\n\u001b[1;32m   1095\u001b[0m \u001b[38;5;28;01mif\u001b[39;00m timeout \u001b[38;5;129;01mis\u001b[39;00m \u001b[38;5;28;01mNone\u001b[39;00m:\n\u001b[0;32m-> 1096\u001b[0m     \u001b[38;5;28;43mself\u001b[39;49m\u001b[38;5;241;43m.\u001b[39;49m\u001b[43m_wait_for_tstate_lock\u001b[49m\u001b[43m(\u001b[49m\u001b[43m)\u001b[49m\n\u001b[1;32m   1097\u001b[0m \u001b[38;5;28;01melse\u001b[39;00m:\n\u001b[1;32m   1098\u001b[0m     \u001b[38;5;66;03m# the behavior of a negative timeout isn't documented, but\u001b[39;00m\n\u001b[1;32m   1099\u001b[0m     \u001b[38;5;66;03m# historically .join(timeout=x) for x<0 has acted as if timeout=0\u001b[39;00m\n\u001b[1;32m   1100\u001b[0m     \u001b[38;5;28mself\u001b[39m\u001b[38;5;241m.\u001b[39m_wait_for_tstate_lock(timeout\u001b[38;5;241m=\u001b[39m\u001b[38;5;28mmax\u001b[39m(timeout, \u001b[38;5;241m0\u001b[39m))\n",
      "File \u001b[0;32m~/anaconda3/envs/py10/lib/python3.10/threading.py:1116\u001b[0m, in \u001b[0;36mThread._wait_for_tstate_lock\u001b[0;34m(self, block, timeout)\u001b[0m\n\u001b[1;32m   1113\u001b[0m     \u001b[38;5;28;01mreturn\u001b[39;00m\n\u001b[1;32m   1115\u001b[0m \u001b[38;5;28;01mtry\u001b[39;00m:\n\u001b[0;32m-> 1116\u001b[0m     \u001b[38;5;28;01mif\u001b[39;00m \u001b[43mlock\u001b[49m\u001b[38;5;241;43m.\u001b[39;49m\u001b[43macquire\u001b[49m\u001b[43m(\u001b[49m\u001b[43mblock\u001b[49m\u001b[43m,\u001b[49m\u001b[43m \u001b[49m\u001b[43mtimeout\u001b[49m\u001b[43m)\u001b[49m:\n\u001b[1;32m   1117\u001b[0m         lock\u001b[38;5;241m.\u001b[39mrelease()\n\u001b[1;32m   1118\u001b[0m         \u001b[38;5;28mself\u001b[39m\u001b[38;5;241m.\u001b[39m_stop()\n",
      "\u001b[0;31mKeyboardInterrupt\u001b[0m: "
     ]
    }
   ],
   "source": [
    "nprocs = 8\n",
    "ncalls = 8\n",
    "start = time()\n",
    "p = Pool(processes=nprocs)\n",
    "for i in range(ncalls):\n",
    "    p.apply_async(run_pb, args = (i,))\n",
    "p.close()\n",
    "p.join()\n",
    "print('Total:', np.round(time() - start,2),'s')\n",
    "# Runs for > 3 mins"
   ]
  },
  {
   "cell_type": "markdown",
   "metadata": {},
   "source": [
    "## First solution: Setting the number of `pyFFTW` threads to 1."
   ]
  },
  {
   "cell_type": "code",
   "execution_count": 7,
   "metadata": {},
   "outputs": [],
   "source": [
    "def run_pb(an_arg):\n",
    "    shape = (200,200,200) # Size of one chunk\n",
    "    arr = np.random.rand(np.prod(shape)).reshape(shape) * an_arg\n",
    "    t0 = time()\n",
    "    out = get_power(arr, (300,300,300),\n",
    "                    bins = 50,\n",
    "                    nthreads = 1)                                   # Set number of threads\n",
    "    print('Done: ', np.round(time() - t0,2), flush = True)\n",
    "    return time() - t0"
   ]
  },
  {
   "cell_type": "markdown",
   "metadata": {},
   "source": [
    "With a single `pyFFWT` thread and multiprocessing, this calculation takes about 11s:"
   ]
  },
  {
   "cell_type": "code",
   "execution_count": 8,
   "metadata": {},
   "outputs": [
    {
     "name": "stdout",
     "output_type": "stream",
     "text": [
      "Done:  3.45\n",
      "Done:  3.63\n",
      "Done:  Done:  3.58\n",
      "3.69\n",
      "Done:  3.25\n",
      "Done:  3.19\n",
      "Done:  3.19\n",
      "Done:  3.38\n",
      "Done:  1.58\n",
      "Done:  1.58\n",
      "Single iteration time: 0.89 s\n"
     ]
    }
   ],
   "source": [
    "nprocs = 4\n",
    "ncalls = 10\n",
    "start = time()\n",
    "p = Pool(processes=nprocs)\n",
    "for i in range(ncalls):\n",
    "    p.apply_async(run_pb, args = (i,))\n",
    "p.close()\n",
    "p.join()\n",
    "print('Single iteration time:', np.round((time() - start)/ncalls,2),'s')"
   ]
  },
  {
   "cell_type": "markdown",
   "metadata": {},
   "source": [
    "## Second solution: Using `numpy` instead of `pyFFTW`"
   ]
  },
  {
   "cell_type": "markdown",
   "metadata": {},
   "source": [
    "We can also just use the `numpy` FFT routine instead of setting the number of threads in `pyFFTW` to 1."
   ]
  },
  {
   "cell_type": "code",
   "execution_count": 9,
   "metadata": {},
   "outputs": [],
   "source": [
    "def run_pb(an_arg):\n",
    "    shape = (200,200,200) # Size of one chunk\n",
    "    arr = np.random.rand(np.prod(shape)).reshape(shape) * an_arg\n",
    "    t0 = time()\n",
    "    out = get_power(arr, (300,300,300),\n",
    "                    bins = 50,\n",
    "                    nthreads = False)                               # Setting nthreads = False disables the use of pyFFTW\n",
    "    print('Done: ', np.round(time() - t0,2), flush = True)\n",
    "    return time() - t0"
   ]
  },
  {
   "cell_type": "code",
   "execution_count": 10,
   "metadata": {},
   "outputs": [
    {
     "name": "stdout",
     "output_type": "stream",
     "text": [
      "Done:  3.12\n",
      "Done:  3.25\n",
      "Done:  3.26\n",
      "Done:  3.4\n",
      "Done:  3.14\n",
      "Done:  3.24\n",
      "Done:  3.07\n",
      "Done:  3.38\n",
      "Done:  1.97\n",
      "Done:  1.88\n",
      "Single iteration time: 0.89 s\n"
     ]
    }
   ],
   "source": [
    "nprocs = 4\n",
    "ncalls = 10\n",
    "start = time()\n",
    "p = Pool(processes=nprocs)\n",
    "for i in range(ncalls):\n",
    "    p.apply_async(run_pb, args = (i,))\n",
    "p.close()\n",
    "p.join()\n",
    "print('Single iteration time:', np.round((time() - start)/ncalls,2),'s')"
   ]
  },
  {
   "cell_type": "markdown",
   "metadata": {},
   "source": [
    "The runtime is roughly the same whether we use `numpy` or single-threaded `pyFFTW`."
   ]
  },
  {
   "cell_type": "code",
   "execution_count": null,
   "metadata": {},
   "outputs": [],
   "source": []
  }
 ],
 "metadata": {
  "kernelspec": {
   "display_name": "py10",
   "language": "python",
   "name": "python3"
  },
  "language_info": {
   "codemirror_mode": {
    "name": "ipython",
    "version": 3
   },
   "file_extension": ".py",
   "mimetype": "text/x-python",
   "name": "python",
   "nbconvert_exporter": "python",
   "pygments_lexer": "ipython3",
   "version": "3.10.9"
  }
 },
 "nbformat": 4,
 "nbformat_minor": 2
}
